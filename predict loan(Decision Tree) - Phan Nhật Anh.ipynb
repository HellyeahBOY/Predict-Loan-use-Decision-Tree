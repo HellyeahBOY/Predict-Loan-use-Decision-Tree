{
 "cells": [
  {
   "cell_type": "code",
   "execution_count": 55,
   "id": "fa445688",
   "metadata": {},
   "outputs": [],
   "source": [
    "import numpy as np\n",
    "import pandas as pd\n",
    "import seaborn as sns\n",
    "from sklearn.model_selection import train_test_split\n",
    "from sklearn import svm\n",
    "from sklearn.metrics import accuracy_score"
   ]
  },
  {
   "cell_type": "code",
   "execution_count": 56,
   "id": "9eb2e38e",
   "metadata": {},
   "outputs": [],
   "source": [
    "df = pd.read_csv(r\"E:/Nhap mon hoc may/CSV/Dataset-main/Loan Eligibility Prediction.csv\")"
   ]
  },
  {
   "cell_type": "code",
   "execution_count": 57,
   "id": "ade90b22",
   "metadata": {},
   "outputs": [
    {
     "data": {
      "text/html": [
       "<div>\n",
       "<style scoped>\n",
       "    .dataframe tbody tr th:only-of-type {\n",
       "        vertical-align: middle;\n",
       "    }\n",
       "\n",
       "    .dataframe tbody tr th {\n",
       "        vertical-align: top;\n",
       "    }\n",
       "\n",
       "    .dataframe thead th {\n",
       "        text-align: right;\n",
       "    }\n",
       "</style>\n",
       "<table border=\"1\" class=\"dataframe\">\n",
       "  <thead>\n",
       "    <tr style=\"text-align: right;\">\n",
       "      <th></th>\n",
       "      <th>Customer_ID</th>\n",
       "      <th>Gender</th>\n",
       "      <th>Married</th>\n",
       "      <th>Dependents</th>\n",
       "      <th>Education</th>\n",
       "      <th>Self_Employed</th>\n",
       "      <th>Applicant_Income</th>\n",
       "      <th>Coapplicant_Income</th>\n",
       "      <th>Loan_Amount</th>\n",
       "      <th>Loan_Amount_Term</th>\n",
       "      <th>Credit_History</th>\n",
       "      <th>Property_Area</th>\n",
       "      <th>Loan_Status</th>\n",
       "    </tr>\n",
       "  </thead>\n",
       "  <tbody>\n",
       "    <tr>\n",
       "      <th>0</th>\n",
       "      <td>569</td>\n",
       "      <td>Female</td>\n",
       "      <td>No</td>\n",
       "      <td>0</td>\n",
       "      <td>Graduate</td>\n",
       "      <td>No</td>\n",
       "      <td>2378</td>\n",
       "      <td>0.0</td>\n",
       "      <td>9</td>\n",
       "      <td>360</td>\n",
       "      <td>1</td>\n",
       "      <td>Urban</td>\n",
       "      <td>N</td>\n",
       "    </tr>\n",
       "    <tr>\n",
       "      <th>1</th>\n",
       "      <td>15</td>\n",
       "      <td>Male</td>\n",
       "      <td>Yes</td>\n",
       "      <td>2</td>\n",
       "      <td>Graduate</td>\n",
       "      <td>No</td>\n",
       "      <td>1299</td>\n",
       "      <td>1086.0</td>\n",
       "      <td>17</td>\n",
       "      <td>120</td>\n",
       "      <td>1</td>\n",
       "      <td>Urban</td>\n",
       "      <td>Y</td>\n",
       "    </tr>\n",
       "    <tr>\n",
       "      <th>2</th>\n",
       "      <td>95</td>\n",
       "      <td>Male</td>\n",
       "      <td>No</td>\n",
       "      <td>0</td>\n",
       "      <td>Not Graduate</td>\n",
       "      <td>No</td>\n",
       "      <td>3620</td>\n",
       "      <td>0.0</td>\n",
       "      <td>25</td>\n",
       "      <td>120</td>\n",
       "      <td>1</td>\n",
       "      <td>Semiurban</td>\n",
       "      <td>Y</td>\n",
       "    </tr>\n",
       "    <tr>\n",
       "      <th>3</th>\n",
       "      <td>134</td>\n",
       "      <td>Male</td>\n",
       "      <td>Yes</td>\n",
       "      <td>0</td>\n",
       "      <td>Graduate</td>\n",
       "      <td>Yes</td>\n",
       "      <td>3459</td>\n",
       "      <td>0.0</td>\n",
       "      <td>25</td>\n",
       "      <td>120</td>\n",
       "      <td>1</td>\n",
       "      <td>Semiurban</td>\n",
       "      <td>Y</td>\n",
       "    </tr>\n",
       "    <tr>\n",
       "      <th>4</th>\n",
       "      <td>556</td>\n",
       "      <td>Male</td>\n",
       "      <td>Yes</td>\n",
       "      <td>1</td>\n",
       "      <td>Graduate</td>\n",
       "      <td>No</td>\n",
       "      <td>5468</td>\n",
       "      <td>1032.0</td>\n",
       "      <td>26</td>\n",
       "      <td>360</td>\n",
       "      <td>1</td>\n",
       "      <td>Semiurban</td>\n",
       "      <td>Y</td>\n",
       "    </tr>\n",
       "    <tr>\n",
       "      <th>5</th>\n",
       "      <td>148</td>\n",
       "      <td>Male</td>\n",
       "      <td>Yes</td>\n",
       "      <td>1</td>\n",
       "      <td>Graduate</td>\n",
       "      <td>No</td>\n",
       "      <td>1538</td>\n",
       "      <td>1425.0</td>\n",
       "      <td>30</td>\n",
       "      <td>360</td>\n",
       "      <td>1</td>\n",
       "      <td>Urban</td>\n",
       "      <td>Y</td>\n",
       "    </tr>\n",
       "    <tr>\n",
       "      <th>6</th>\n",
       "      <td>271</td>\n",
       "      <td>Female</td>\n",
       "      <td>No</td>\n",
       "      <td>0</td>\n",
       "      <td>Graduate</td>\n",
       "      <td>No</td>\n",
       "      <td>3237</td>\n",
       "      <td>0.0</td>\n",
       "      <td>30</td>\n",
       "      <td>360</td>\n",
       "      <td>1</td>\n",
       "      <td>Urban</td>\n",
       "      <td>Y</td>\n",
       "    </tr>\n",
       "    <tr>\n",
       "      <th>7</th>\n",
       "      <td>29</td>\n",
       "      <td>Male</td>\n",
       "      <td>No</td>\n",
       "      <td>0</td>\n",
       "      <td>Not Graduate</td>\n",
       "      <td>No</td>\n",
       "      <td>1442</td>\n",
       "      <td>0.0</td>\n",
       "      <td>35</td>\n",
       "      <td>360</td>\n",
       "      <td>1</td>\n",
       "      <td>Urban</td>\n",
       "      <td>N</td>\n",
       "    </tr>\n",
       "    <tr>\n",
       "      <th>8</th>\n",
       "      <td>583</td>\n",
       "      <td>Female</td>\n",
       "      <td>Yes</td>\n",
       "      <td>0</td>\n",
       "      <td>Graduate</td>\n",
       "      <td>No</td>\n",
       "      <td>3166</td>\n",
       "      <td>0.0</td>\n",
       "      <td>36</td>\n",
       "      <td>360</td>\n",
       "      <td>1</td>\n",
       "      <td>Semiurban</td>\n",
       "      <td>Y</td>\n",
       "    </tr>\n",
       "    <tr>\n",
       "      <th>9</th>\n",
       "      <td>510</td>\n",
       "      <td>Female</td>\n",
       "      <td>No</td>\n",
       "      <td>1</td>\n",
       "      <td>Graduate</td>\n",
       "      <td>No</td>\n",
       "      <td>13262</td>\n",
       "      <td>0.0</td>\n",
       "      <td>40</td>\n",
       "      <td>360</td>\n",
       "      <td>1</td>\n",
       "      <td>Urban</td>\n",
       "      <td>Y</td>\n",
       "    </tr>\n",
       "  </tbody>\n",
       "</table>\n",
       "</div>"
      ],
      "text/plain": [
       "   Customer_ID  Gender Married  Dependents     Education Self_Employed  \\\n",
       "0          569  Female      No           0      Graduate            No   \n",
       "1           15    Male     Yes           2      Graduate            No   \n",
       "2           95    Male      No           0  Not Graduate            No   \n",
       "3          134    Male     Yes           0      Graduate           Yes   \n",
       "4          556    Male     Yes           1      Graduate            No   \n",
       "5          148    Male     Yes           1      Graduate            No   \n",
       "6          271  Female      No           0      Graduate            No   \n",
       "7           29    Male      No           0  Not Graduate            No   \n",
       "8          583  Female     Yes           0      Graduate            No   \n",
       "9          510  Female      No           1      Graduate            No   \n",
       "\n",
       "   Applicant_Income  Coapplicant_Income  Loan_Amount  Loan_Amount_Term  \\\n",
       "0              2378                 0.0            9               360   \n",
       "1              1299              1086.0           17               120   \n",
       "2              3620                 0.0           25               120   \n",
       "3              3459                 0.0           25               120   \n",
       "4              5468              1032.0           26               360   \n",
       "5              1538              1425.0           30               360   \n",
       "6              3237                 0.0           30               360   \n",
       "7              1442                 0.0           35               360   \n",
       "8              3166                 0.0           36               360   \n",
       "9             13262                 0.0           40               360   \n",
       "\n",
       "   Credit_History Property_Area Loan_Status  \n",
       "0               1         Urban           N  \n",
       "1               1         Urban           Y  \n",
       "2               1     Semiurban           Y  \n",
       "3               1     Semiurban           Y  \n",
       "4               1     Semiurban           Y  \n",
       "5               1         Urban           Y  \n",
       "6               1         Urban           Y  \n",
       "7               1         Urban           N  \n",
       "8               1     Semiurban           Y  \n",
       "9               1         Urban           Y  "
      ]
     },
     "execution_count": 57,
     "metadata": {},
     "output_type": "execute_result"
    }
   ],
   "source": [
    "df.head(10)\n"
   ]
  },
  {
   "cell_type": "code",
   "execution_count": 58,
   "id": "57db7f99",
   "metadata": {},
   "outputs": [
    {
     "name": "stdout",
     "output_type": "stream",
     "text": [
      "<class 'pandas.core.frame.DataFrame'>\n",
      "RangeIndex: 614 entries, 0 to 613\n",
      "Data columns (total 13 columns):\n",
      " #   Column              Non-Null Count  Dtype  \n",
      "---  ------              --------------  -----  \n",
      " 0   Customer_ID         614 non-null    int64  \n",
      " 1   Gender              614 non-null    object \n",
      " 2   Married             614 non-null    object \n",
      " 3   Dependents          614 non-null    int64  \n",
      " 4   Education           614 non-null    object \n",
      " 5   Self_Employed       614 non-null    object \n",
      " 6   Applicant_Income    614 non-null    int64  \n",
      " 7   Coapplicant_Income  614 non-null    float64\n",
      " 8   Loan_Amount         614 non-null    int64  \n",
      " 9   Loan_Amount_Term    614 non-null    int64  \n",
      " 10  Credit_History      614 non-null    int64  \n",
      " 11  Property_Area       614 non-null    object \n",
      " 12  Loan_Status         614 non-null    object \n",
      "dtypes: float64(1), int64(6), object(6)\n",
      "memory usage: 62.5+ KB\n"
     ]
    },
    {
     "data": {
      "text/plain": [
       "(614, 13)"
      ]
     },
     "execution_count": 58,
     "metadata": {},
     "output_type": "execute_result"
    }
   ],
   "source": [
    "df.info()\n",
    "df.shape"
   ]
  },
  {
   "cell_type": "code",
   "execution_count": 59,
   "id": "bf9cda32",
   "metadata": {},
   "outputs": [
    {
     "data": {
      "text/html": [
       "<div>\n",
       "<style scoped>\n",
       "    .dataframe tbody tr th:only-of-type {\n",
       "        vertical-align: middle;\n",
       "    }\n",
       "\n",
       "    .dataframe tbody tr th {\n",
       "        vertical-align: top;\n",
       "    }\n",
       "\n",
       "    .dataframe thead th {\n",
       "        text-align: right;\n",
       "    }\n",
       "</style>\n",
       "<table border=\"1\" class=\"dataframe\">\n",
       "  <thead>\n",
       "    <tr style=\"text-align: right;\">\n",
       "      <th></th>\n",
       "      <th>Customer_ID</th>\n",
       "      <th>Dependents</th>\n",
       "      <th>Applicant_Income</th>\n",
       "      <th>Coapplicant_Income</th>\n",
       "      <th>Loan_Amount</th>\n",
       "      <th>Loan_Amount_Term</th>\n",
       "      <th>Credit_History</th>\n",
       "    </tr>\n",
       "  </thead>\n",
       "  <tbody>\n",
       "    <tr>\n",
       "      <th>count</th>\n",
       "      <td>614.000000</td>\n",
       "      <td>614.000000</td>\n",
       "      <td>614.000000</td>\n",
       "      <td>614.000000</td>\n",
       "      <td>614.000000</td>\n",
       "      <td>614.000000</td>\n",
       "      <td>614.000000</td>\n",
       "    </tr>\n",
       "    <tr>\n",
       "      <th>mean</th>\n",
       "      <td>307.500000</td>\n",
       "      <td>0.856678</td>\n",
       "      <td>5403.459283</td>\n",
       "      <td>1621.245798</td>\n",
       "      <td>142.022801</td>\n",
       "      <td>338.892508</td>\n",
       "      <td>0.850163</td>\n",
       "    </tr>\n",
       "    <tr>\n",
       "      <th>std</th>\n",
       "      <td>177.390811</td>\n",
       "      <td>1.216651</td>\n",
       "      <td>6109.041673</td>\n",
       "      <td>2926.248369</td>\n",
       "      <td>87.083089</td>\n",
       "      <td>69.716355</td>\n",
       "      <td>0.357203</td>\n",
       "    </tr>\n",
       "    <tr>\n",
       "      <th>min</th>\n",
       "      <td>1.000000</td>\n",
       "      <td>0.000000</td>\n",
       "      <td>150.000000</td>\n",
       "      <td>0.000000</td>\n",
       "      <td>9.000000</td>\n",
       "      <td>12.000000</td>\n",
       "      <td>0.000000</td>\n",
       "    </tr>\n",
       "    <tr>\n",
       "      <th>25%</th>\n",
       "      <td>154.250000</td>\n",
       "      <td>0.000000</td>\n",
       "      <td>2877.500000</td>\n",
       "      <td>0.000000</td>\n",
       "      <td>98.000000</td>\n",
       "      <td>360.000000</td>\n",
       "      <td>1.000000</td>\n",
       "    </tr>\n",
       "    <tr>\n",
       "      <th>50%</th>\n",
       "      <td>307.500000</td>\n",
       "      <td>0.000000</td>\n",
       "      <td>3812.500000</td>\n",
       "      <td>1188.500000</td>\n",
       "      <td>125.000000</td>\n",
       "      <td>360.000000</td>\n",
       "      <td>1.000000</td>\n",
       "    </tr>\n",
       "    <tr>\n",
       "      <th>75%</th>\n",
       "      <td>460.750000</td>\n",
       "      <td>2.000000</td>\n",
       "      <td>5795.000000</td>\n",
       "      <td>2297.250000</td>\n",
       "      <td>164.750000</td>\n",
       "      <td>360.000000</td>\n",
       "      <td>1.000000</td>\n",
       "    </tr>\n",
       "    <tr>\n",
       "      <th>max</th>\n",
       "      <td>614.000000</td>\n",
       "      <td>4.000000</td>\n",
       "      <td>81000.000000</td>\n",
       "      <td>41667.000000</td>\n",
       "      <td>700.000000</td>\n",
       "      <td>480.000000</td>\n",
       "      <td>1.000000</td>\n",
       "    </tr>\n",
       "  </tbody>\n",
       "</table>\n",
       "</div>"
      ],
      "text/plain": [
       "       Customer_ID  Dependents  Applicant_Income  Coapplicant_Income  \\\n",
       "count   614.000000  614.000000        614.000000          614.000000   \n",
       "mean    307.500000    0.856678       5403.459283         1621.245798   \n",
       "std     177.390811    1.216651       6109.041673         2926.248369   \n",
       "min       1.000000    0.000000        150.000000            0.000000   \n",
       "25%     154.250000    0.000000       2877.500000            0.000000   \n",
       "50%     307.500000    0.000000       3812.500000         1188.500000   \n",
       "75%     460.750000    2.000000       5795.000000         2297.250000   \n",
       "max     614.000000    4.000000      81000.000000        41667.000000   \n",
       "\n",
       "       Loan_Amount  Loan_Amount_Term  Credit_History  \n",
       "count   614.000000        614.000000      614.000000  \n",
       "mean    142.022801        338.892508        0.850163  \n",
       "std      87.083089         69.716355        0.357203  \n",
       "min       9.000000         12.000000        0.000000  \n",
       "25%      98.000000        360.000000        1.000000  \n",
       "50%     125.000000        360.000000        1.000000  \n",
       "75%     164.750000        360.000000        1.000000  \n",
       "max     700.000000        480.000000        1.000000  "
      ]
     },
     "execution_count": 59,
     "metadata": {},
     "output_type": "execute_result"
    }
   ],
   "source": [
    "df.describe()"
   ]
  },
  {
   "cell_type": "markdown",
   "id": "d5fadc27",
   "metadata": {},
   "source": [
    "Count: Tổng số dòng của một cột \n",
    "Mean: giá trị trung bình của từng cột \n",
    "std: phân phối chuẩn của từng cột min: \n",
    "Giá trị thấp nhất của từng cột\n",
    "25% , 50% , 75%, max: lần lượt là khoảng của từng cột đạt được\n"
   ]
  },
  {
   "cell_type": "code",
   "execution_count": 60,
   "id": "20af095b",
   "metadata": {},
   "outputs": [
    {
     "data": {
      "text/plain": [
       "Index(['Customer_ID', 'Gender', 'Married', 'Dependents', 'Education',\n",
       "       'Self_Employed', 'Applicant_Income', 'Coapplicant_Income',\n",
       "       'Loan_Amount', 'Loan_Amount_Term', 'Credit_History', 'Property_Area',\n",
       "       'Loan_Status'],\n",
       "      dtype='object')"
      ]
     },
     "execution_count": 60,
     "metadata": {},
     "output_type": "execute_result"
    }
   ],
   "source": [
    "df.columns"
   ]
  },
  {
   "cell_type": "code",
   "execution_count": 89,
   "id": "ea0ac3ad",
   "metadata": {
    "scrolled": true
   },
   "outputs": [
    {
     "data": {
      "text/plain": [
       "<AxesSubplot:xlabel='Credit_History', ylabel='count'>"
      ]
     },
     "execution_count": 89,
     "metadata": {},
     "output_type": "execute_result"
    },
    {
     "data": {
      "image/png": "[encoded data removed]",
      "text/plain": [
       "<Figure size 432x288 with 1 Axes>"
      ]
     },
     "metadata": {
      "needs_background": "light"
     },
     "output_type": "display_data"
    }
   ],
   "source": [
    "# Loan_Status & Credit_History\n",
    "sns.countplot(x='Credit_History',hue='Loan_Status',data=df)"
   ]
  },
  {
   "cell_type": "code",
   "execution_count": 106,
   "id": "231da080",
   "metadata": {
    "scrolled": true
   },
   "outputs": [
    {
     "data": {
      "text/plain": [
       "<AxesSubplot:xlabel='Self_Employed', ylabel='count'>"
      ]
     },
     "execution_count": 106,
     "metadata": {},
     "output_type": "execute_result"
    },
    {
     "data": {
      "image/png": "[encoded data removed]",
      "text/plain": [
       "<Figure size 432x288 with 1 Axes>"
      ]
     },
     "metadata": {
      "needs_background": "light"
     },
     "output_type": "display_data"
    }
   ],
   "source": [
    "# Loan_Status & Self_Employed\n",
    "sns.countplot(x='Self_Employed',hue='Loan_Status',data=df)"
   ]
  },
  {
   "cell_type": "code",
   "execution_count": 107,
   "id": "dde35060",
   "metadata": {},
   "outputs": [
    {
     "data": {
      "text/plain": [
       "<AxesSubplot:xlabel='Married', ylabel='count'>"
      ]
     },
     "execution_count": 107,
     "metadata": {},
     "output_type": "execute_result"
    },
    {
     "data": {
      "image/png": "[encoded data removed]",
      "text/plain": [
       "<Figure size 432x288 with 1 Axes>"
      ]
     },
     "metadata": {
      "needs_background": "light"
     },
     "output_type": "display_data"
    }
   ],
   "source": [
    "# Loan_Status & Married\n",
    "sns.countplot(x='Married',hue='Loan_Status',data=df)"
   ]
  },
  {
   "cell_type": "code",
   "execution_count": 108,
   "id": "046daa88",
   "metadata": {},
   "outputs": [
    {
     "data": {
      "text/plain": [
       "<AxesSubplot:xlabel='Gender', ylabel='count'>"
      ]
     },
     "execution_count": 108,
     "metadata": {},
     "output_type": "execute_result"
    },
    {
     "data": {
      "image/png": "[encoded data removed]",
      "text/plain": [
       "<Figure size 432x288 with 1 Axes>"
      ]
     },
     "metadata": {
      "needs_background": "light"
     },
     "output_type": "display_data"
    }
   ],
   "source": [
    "# Loan_Status & Gender\n",
    "sns.countplot(x='Gender',hue='Loan_Status',data=df)"
   ]
  },
  {
   "cell_type": "code",
   "execution_count": 109,
   "id": "fd7ae7a9",
   "metadata": {},
   "outputs": [
    {
     "data": {
      "text/plain": [
       "<AxesSubplot:xlabel='Loan_Amount_Term', ylabel='count'>"
      ]
     },
     "execution_count": 109,
     "metadata": {},
     "output_type": "execute_result"
    },
    {
     "data": {
      "image/png": "[encoded data removed]",
      "text/plain": [
       "<Figure size 432x288 with 1 Axes>"
      ]
     },
     "metadata": {
      "needs_background": "light"
     },
     "output_type": "display_data"
    }
   ],
   "source": [
    "# Loan_Status & Loan_Amount_Term\n",
    "sns.countplot(x='Loan_Amount_Term',hue='Loan_Status',data=df)"
   ]
  },
  {
   "cell_type": "markdown",
   "id": "360dbc0b",
   "metadata": {},
   "source": [
    "# Nhận giá trị duy nhất (lớp hoặc nhãn) trong biến y"
   ]
  },
  {
   "cell_type": "code",
   "execution_count": 61,
   "id": "9379a787",
   "metadata": {},
   "outputs": [
    {
     "data": {
      "text/plain": [
       "Y    422\n",
       "N    192\n",
       "Name: Loan_Status, dtype: int64"
      ]
     },
     "execution_count": 61,
     "metadata": {},
     "output_type": "execute_result"
    }
   ],
   "source": [
    "df['Loan_Status'].value_counts()"
   ]
  },
  {
   "cell_type": "code",
   "execution_count": 62,
   "id": "c3f892e9",
   "metadata": {},
   "outputs": [
    {
     "data": {
      "text/html": [
       "<div>\n",
       "<style scoped>\n",
       "    .dataframe tbody tr th:only-of-type {\n",
       "        vertical-align: middle;\n",
       "    }\n",
       "\n",
       "    .dataframe tbody tr th {\n",
       "        vertical-align: top;\n",
       "    }\n",
       "\n",
       "    .dataframe thead th {\n",
       "        text-align: right;\n",
       "    }\n",
       "</style>\n",
       "<table border=\"1\" class=\"dataframe\">\n",
       "  <thead>\n",
       "    <tr style=\"text-align: right;\">\n",
       "      <th></th>\n",
       "      <th>Customer_ID</th>\n",
       "      <th>Dependents</th>\n",
       "      <th>Applicant_Income</th>\n",
       "      <th>Coapplicant_Income</th>\n",
       "      <th>Loan_Amount</th>\n",
       "      <th>Loan_Amount_Term</th>\n",
       "      <th>Credit_History</th>\n",
       "    </tr>\n",
       "    <tr>\n",
       "      <th>Loan_Status</th>\n",
       "      <th></th>\n",
       "      <th></th>\n",
       "      <th></th>\n",
       "      <th></th>\n",
       "      <th></th>\n",
       "      <th></th>\n",
       "      <th></th>\n",
       "    </tr>\n",
       "  </thead>\n",
       "  <tbody>\n",
       "    <tr>\n",
       "      <th>N</th>\n",
       "      <td>304.406250</td>\n",
       "      <td>0.864583</td>\n",
       "      <td>5446.078125</td>\n",
       "      <td>1877.807292</td>\n",
       "      <td>143.869792</td>\n",
       "      <td>339.562500</td>\n",
       "      <td>0.572917</td>\n",
       "    </tr>\n",
       "    <tr>\n",
       "      <th>Y</th>\n",
       "      <td>308.907583</td>\n",
       "      <td>0.853081</td>\n",
       "      <td>5384.068720</td>\n",
       "      <td>1504.516398</td>\n",
       "      <td>141.182464</td>\n",
       "      <td>338.587678</td>\n",
       "      <td>0.976303</td>\n",
       "    </tr>\n",
       "  </tbody>\n",
       "</table>\n",
       "</div>"
      ],
      "text/plain": [
       "             Customer_ID  Dependents  Applicant_Income  Coapplicant_Income  \\\n",
       "Loan_Status                                                                  \n",
       "N             304.406250    0.864583       5446.078125         1877.807292   \n",
       "Y             308.907583    0.853081       5384.068720         1504.516398   \n",
       "\n",
       "             Loan_Amount  Loan_Amount_Term  Credit_History  \n",
       "Loan_Status                                                 \n",
       "N             143.869792        339.562500        0.572917  \n",
       "Y             141.182464        338.587678        0.976303  "
      ]
     },
     "execution_count": 62,
     "metadata": {},
     "output_type": "execute_result"
    }
   ],
   "source": [
    "df.groupby(\"Loan_Status\").mean()"
   ]
  },
  {
   "cell_type": "markdown",
   "id": "579acae4",
   "metadata": {},
   "source": [
    "# Nhận danh mục và số lượng phân loại của biến"
   ]
  },
  {
   "cell_type": "code",
   "execution_count": 63,
   "id": "44187024",
   "metadata": {},
   "outputs": [
    {
     "data": {
      "text/plain": [
       "Male      499\n",
       "Female    115\n",
       "Name: Gender, dtype: int64"
      ]
     },
     "execution_count": 63,
     "metadata": {},
     "output_type": "execute_result"
    }
   ],
   "source": [
    "df['Gender'].value_counts()"
   ]
  },
  {
   "cell_type": "code",
   "execution_count": 64,
   "id": "c35ed4d9",
   "metadata": {},
   "outputs": [
    {
     "data": {
      "text/plain": [
       "Yes    399\n",
       "No     215\n",
       "Name: Married, dtype: int64"
      ]
     },
     "execution_count": 64,
     "metadata": {},
     "output_type": "execute_result"
    }
   ],
   "source": [
    "df['Married'].value_counts()"
   ]
  },
  {
   "cell_type": "code",
   "execution_count": 65,
   "id": "cfda2818",
   "metadata": {},
   "outputs": [
    {
     "data": {
      "text/plain": [
       "0    351\n",
       "2    110\n",
       "1    102\n",
       "4     51\n",
       "Name: Dependents, dtype: int64"
      ]
     },
     "execution_count": 65,
     "metadata": {},
     "output_type": "execute_result"
    }
   ],
   "source": [
    "df['Dependents'].value_counts()"
   ]
  },
  {
   "cell_type": "code",
   "execution_count": 66,
   "id": "8e99f729",
   "metadata": {},
   "outputs": [
    {
     "data": {
      "text/plain": [
       "No     523\n",
       "Yes     91\n",
       "Name: Self_Employed, dtype: int64"
      ]
     },
     "execution_count": 66,
     "metadata": {},
     "output_type": "execute_result"
    }
   ],
   "source": [
    "df['Self_Employed'].value_counts()"
   ]
  },
  {
   "cell_type": "code",
   "execution_count": 67,
   "id": "da5219c9",
   "metadata": {},
   "outputs": [
    {
     "data": {
      "text/plain": [
       "2500    9\n",
       "6000    6\n",
       "2600    6\n",
       "4583    6\n",
       "5000    5\n",
       "       ..\n",
       "4124    1\n",
       "2750    1\n",
       "6045    1\n",
       "4188    1\n",
       "2492    1\n",
       "Name: Applicant_Income, Length: 505, dtype: int64"
      ]
     },
     "execution_count": 67,
     "metadata": {},
     "output_type": "execute_result"
    }
   ],
   "source": [
    "df['Applicant_Income'].value_counts()"
   ]
  },
  {
   "cell_type": "code",
   "execution_count": 68,
   "id": "04745bda",
   "metadata": {},
   "outputs": [
    {
     "data": {
      "text/plain": [
       "0.0       273\n",
       "2083.0      5\n",
       "2500.0      5\n",
       "1666.0      5\n",
       "1625.0      3\n",
       "         ... \n",
       "1280.0      1\n",
       "4300.0      1\n",
       "2253.0      1\n",
       "2034.0      1\n",
       "3800.0      1\n",
       "Name: Coapplicant_Income, Length: 287, dtype: int64"
      ]
     },
     "execution_count": 68,
     "metadata": {},
     "output_type": "execute_result"
    }
   ],
   "source": [
    "df['Coapplicant_Income'].value_counts()"
   ]
  },
  {
   "cell_type": "code",
   "execution_count": 69,
   "id": "1792d88b",
   "metadata": {},
   "outputs": [
    {
     "data": {
      "text/plain": [
       "120    20\n",
       "110    17\n",
       "100    15\n",
       "160    12\n",
       "187    12\n",
       "       ..\n",
       "58      1\n",
       "59      1\n",
       "196     1\n",
       "61      1\n",
       "10      1\n",
       "Name: Loan_Amount, Length: 208, dtype: int64"
      ]
     },
     "execution_count": 69,
     "metadata": {},
     "output_type": "execute_result"
    }
   ],
   "source": [
    "df['Loan_Amount'].value_counts()"
   ]
  },
  {
   "cell_type": "code",
   "execution_count": 70,
   "id": "0bedf708",
   "metadata": {},
   "outputs": [
    {
     "data": {
      "text/plain": [
       "360    517\n",
       "180     44\n",
       "480     15\n",
       "300     13\n",
       "120     12\n",
       "240      4\n",
       "84       4\n",
       "36       2\n",
       "60       2\n",
       "12       1\n",
       "Name: Loan_Amount_Term, dtype: int64"
      ]
     },
     "execution_count": 70,
     "metadata": {},
     "output_type": "execute_result"
    }
   ],
   "source": [
    "df['Loan_Amount_Term'].value_counts()"
   ]
  },
  {
   "cell_type": "code",
   "execution_count": 71,
   "id": "93e39561",
   "metadata": {},
   "outputs": [
    {
     "data": {
      "text/plain": [
       "1    522\n",
       "0     92\n",
       "Name: Credit_History, dtype: int64"
      ]
     },
     "execution_count": 71,
     "metadata": {},
     "output_type": "execute_result"
    }
   ],
   "source": [
    "df['Credit_History'].value_counts()"
   ]
  },
  {
   "cell_type": "code",
   "execution_count": 72,
   "id": "3aa0a233",
   "metadata": {},
   "outputs": [
    {
     "data": {
      "text/plain": [
       "Graduate        480\n",
       "Not Graduate    134\n",
       "Name: Education, dtype: int64"
      ]
     },
     "execution_count": 72,
     "metadata": {},
     "output_type": "execute_result"
    }
   ],
   "source": [
    "df['Education'].value_counts()"
   ]
  },
  {
   "cell_type": "code",
   "execution_count": 73,
   "id": "065bf0b9",
   "metadata": {},
   "outputs": [
    {
     "data": {
      "text/plain": [
       "Semiurban    233\n",
       "Urban        202\n",
       "Rural        179\n",
       "Name: Property_Area, dtype: int64"
      ]
     },
     "execution_count": 73,
     "metadata": {},
     "output_type": "execute_result"
    }
   ],
   "source": [
    "df['Property_Area'].value_counts()"
   ]
  },
  {
   "cell_type": "markdown",
   "id": "75feda6a",
   "metadata": {},
   "source": [
    "# Gán giá trị cho biến"
   ]
  },
  {
   "cell_type": "code",
   "execution_count": 74,
   "id": "ebbb51d4",
   "metadata": {},
   "outputs": [],
   "source": [
    "df.replace({'Gender':{'Male':0,'Female':1}},inplace = True)"
   ]
  },
  {
   "cell_type": "code",
   "execution_count": 75,
   "id": "ec4e1f1f",
   "metadata": {},
   "outputs": [],
   "source": [
    "df.replace({'Married':{'No':0,'Yes':1}},inplace = True)"
   ]
  },
  {
   "cell_type": "code",
   "execution_count": 76,
   "id": "90bd2584",
   "metadata": {},
   "outputs": [],
   "source": [
    "df.replace({'Self_Employed':{'No':0,'Yes':1}},inplace = True)"
   ]
  },
  {
   "cell_type": "code",
   "execution_count": 77,
   "id": "338ae800",
   "metadata": {},
   "outputs": [],
   "source": [
    "df.replace({'Education':{'Not Graduate':0,'Graduate':1}},inplace = True)"
   ]
  },
  {
   "cell_type": "code",
   "execution_count": 78,
   "id": "b4045ec3",
   "metadata": {},
   "outputs": [],
   "source": [
    "df.replace({'Property_Area':{'Rural':0,'Semiurban':1,'Urban':1}},inplace = True)"
   ]
  },
  {
   "cell_type": "markdown",
   "id": "720cd89b",
   "metadata": {},
   "source": [
    "# Xác định y (phụ thuộc hoặc nhãn hoặc biến mục tiêu) và X (biến độc lập hoặc tính năng hoặc thuộc tính)"
   ]
  },
  {
   "cell_type": "code",
   "execution_count": 95,
   "id": "1d0b6dd7",
   "metadata": {},
   "outputs": [
    {
     "data": {
      "text/plain": [
       "(614,)"
      ]
     },
     "execution_count": 95,
     "metadata": {},
     "output_type": "execute_result"
    }
   ],
   "source": [
    "y = df['Loan_Status']\n",
    "y.shape"
   ]
  },
  {
   "cell_type": "code",
   "execution_count": 96,
   "id": "989581d6",
   "metadata": {},
   "outputs": [
    {
     "data": {
      "text/plain": [
       "0      N\n",
       "1      Y\n",
       "2      Y\n",
       "3      Y\n",
       "4      Y\n",
       "      ..\n",
       "609    N\n",
       "610    N\n",
       "611    N\n",
       "612    Y\n",
       "613    N\n",
       "Name: Loan_Status, Length: 614, dtype: object"
      ]
     },
     "execution_count": 96,
     "metadata": {},
     "output_type": "execute_result"
    }
   ],
   "source": [
    "y"
   ]
  },
  {
   "cell_type": "code",
   "execution_count": 102,
   "id": "061d7fa1",
   "metadata": {},
   "outputs": [],
   "source": [
    "X =df[['Gender', 'Married', 'Dependents', 'Education', 'Self_Employed', 'Applicant_Income','Coapplicant_Income','Loan_Amount','Loan_Amount_Term','Credit_History', 'Property_Area']]"
   ]
  },
  {
   "cell_type": "code",
   "execution_count": 103,
   "id": "c3a2d7b7",
   "metadata": {},
   "outputs": [],
   "source": [
    "X = df.drop(['Customer_ID', 'Loan_Status'],axis=1)"
   ]
  },
  {
   "cell_type": "code",
   "execution_count": 104,
   "id": "8dcedf59",
   "metadata": {},
   "outputs": [
    {
     "data": {
      "text/plain": [
       "(614, 11)"
      ]
     },
     "execution_count": 104,
     "metadata": {},
     "output_type": "execute_result"
    }
   ],
   "source": [
    "X.shape"
   ]
  },
  {
   "cell_type": "code",
   "execution_count": 105,
   "id": "c8b00e9e",
   "metadata": {},
   "outputs": [
    {
     "data": {
      "text/html": [
       "<div>\n",
       "<style scoped>\n",
       "    .dataframe tbody tr th:only-of-type {\n",
       "        vertical-align: middle;\n",
       "    }\n",
       "\n",
       "    .dataframe tbody tr th {\n",
       "        vertical-align: top;\n",
       "    }\n",
       "\n",
       "    .dataframe thead th {\n",
       "        text-align: right;\n",
       "    }\n",
       "</style>\n",
       "<table border=\"1\" class=\"dataframe\">\n",
       "  <thead>\n",
       "    <tr style=\"text-align: right;\">\n",
       "      <th></th>\n",
       "      <th>Gender</th>\n",
       "      <th>Married</th>\n",
       "      <th>Dependents</th>\n",
       "      <th>Education</th>\n",
       "      <th>Self_Employed</th>\n",
       "      <th>Applicant_Income</th>\n",
       "      <th>Coapplicant_Income</th>\n",
       "      <th>Loan_Amount</th>\n",
       "      <th>Loan_Amount_Term</th>\n",
       "      <th>Credit_History</th>\n",
       "      <th>Property_Area</th>\n",
       "    </tr>\n",
       "  </thead>\n",
       "  <tbody>\n",
       "    <tr>\n",
       "      <th>0</th>\n",
       "      <td>1</td>\n",
       "      <td>0</td>\n",
       "      <td>0</td>\n",
       "      <td>1</td>\n",
       "      <td>0</td>\n",
       "      <td>2378</td>\n",
       "      <td>0.0</td>\n",
       "      <td>9</td>\n",
       "      <td>360</td>\n",
       "      <td>1</td>\n",
       "      <td>1</td>\n",
       "    </tr>\n",
       "    <tr>\n",
       "      <th>1</th>\n",
       "      <td>0</td>\n",
       "      <td>1</td>\n",
       "      <td>2</td>\n",
       "      <td>1</td>\n",
       "      <td>0</td>\n",
       "      <td>1299</td>\n",
       "      <td>1086.0</td>\n",
       "      <td>17</td>\n",
       "      <td>120</td>\n",
       "      <td>1</td>\n",
       "      <td>1</td>\n",
       "    </tr>\n",
       "    <tr>\n",
       "      <th>2</th>\n",
       "      <td>0</td>\n",
       "      <td>0</td>\n",
       "      <td>0</td>\n",
       "      <td>0</td>\n",
       "      <td>0</td>\n",
       "      <td>3620</td>\n",
       "      <td>0.0</td>\n",
       "      <td>25</td>\n",
       "      <td>120</td>\n",
       "      <td>1</td>\n",
       "      <td>1</td>\n",
       "    </tr>\n",
       "    <tr>\n",
       "      <th>3</th>\n",
       "      <td>0</td>\n",
       "      <td>1</td>\n",
       "      <td>0</td>\n",
       "      <td>1</td>\n",
       "      <td>1</td>\n",
       "      <td>3459</td>\n",
       "      <td>0.0</td>\n",
       "      <td>25</td>\n",
       "      <td>120</td>\n",
       "      <td>1</td>\n",
       "      <td>1</td>\n",
       "    </tr>\n",
       "    <tr>\n",
       "      <th>4</th>\n",
       "      <td>0</td>\n",
       "      <td>1</td>\n",
       "      <td>1</td>\n",
       "      <td>1</td>\n",
       "      <td>0</td>\n",
       "      <td>5468</td>\n",
       "      <td>1032.0</td>\n",
       "      <td>26</td>\n",
       "      <td>360</td>\n",
       "      <td>1</td>\n",
       "      <td>1</td>\n",
       "    </tr>\n",
       "    <tr>\n",
       "      <th>...</th>\n",
       "      <td>...</td>\n",
       "      <td>...</td>\n",
       "      <td>...</td>\n",
       "      <td>...</td>\n",
       "      <td>...</td>\n",
       "      <td>...</td>\n",
       "      <td>...</td>\n",
       "      <td>...</td>\n",
       "      <td>...</td>\n",
       "      <td>...</td>\n",
       "      <td>...</td>\n",
       "    </tr>\n",
       "    <tr>\n",
       "      <th>609</th>\n",
       "      <td>0</td>\n",
       "      <td>1</td>\n",
       "      <td>2</td>\n",
       "      <td>1</td>\n",
       "      <td>0</td>\n",
       "      <td>2947</td>\n",
       "      <td>1603.0</td>\n",
       "      <td>10</td>\n",
       "      <td>360</td>\n",
       "      <td>1</td>\n",
       "      <td>1</td>\n",
       "    </tr>\n",
       "    <tr>\n",
       "      <th>610</th>\n",
       "      <td>0</td>\n",
       "      <td>0</td>\n",
       "      <td>0</td>\n",
       "      <td>1</td>\n",
       "      <td>0</td>\n",
       "      <td>4680</td>\n",
       "      <td>2087.0</td>\n",
       "      <td>15</td>\n",
       "      <td>360</td>\n",
       "      <td>1</td>\n",
       "      <td>1</td>\n",
       "    </tr>\n",
       "    <tr>\n",
       "      <th>611</th>\n",
       "      <td>0</td>\n",
       "      <td>1</td>\n",
       "      <td>2</td>\n",
       "      <td>1</td>\n",
       "      <td>1</td>\n",
       "      <td>6633</td>\n",
       "      <td>0.0</td>\n",
       "      <td>25</td>\n",
       "      <td>360</td>\n",
       "      <td>0</td>\n",
       "      <td>0</td>\n",
       "    </tr>\n",
       "    <tr>\n",
       "      <th>612</th>\n",
       "      <td>0</td>\n",
       "      <td>1</td>\n",
       "      <td>1</td>\n",
       "      <td>0</td>\n",
       "      <td>0</td>\n",
       "      <td>2492</td>\n",
       "      <td>2375.0</td>\n",
       "      <td>30</td>\n",
       "      <td>360</td>\n",
       "      <td>1</td>\n",
       "      <td>0</td>\n",
       "    </tr>\n",
       "    <tr>\n",
       "      <th>613</th>\n",
       "      <td>0</td>\n",
       "      <td>1</td>\n",
       "      <td>0</td>\n",
       "      <td>0</td>\n",
       "      <td>0</td>\n",
       "      <td>2400</td>\n",
       "      <td>3800.0</td>\n",
       "      <td>25</td>\n",
       "      <td>180</td>\n",
       "      <td>1</td>\n",
       "      <td>1</td>\n",
       "    </tr>\n",
       "  </tbody>\n",
       "</table>\n",
       "<p>614 rows × 11 columns</p>\n",
       "</div>"
      ],
      "text/plain": [
       "     Gender  Married  Dependents  Education  Self_Employed  Applicant_Income  \\\n",
       "0         1        0           0          1              0              2378   \n",
       "1         0        1           2          1              0              1299   \n",
       "2         0        0           0          0              0              3620   \n",
       "3         0        1           0          1              1              3459   \n",
       "4         0        1           1          1              0              5468   \n",
       "..      ...      ...         ...        ...            ...               ...   \n",
       "609       0        1           2          1              0              2947   \n",
       "610       0        0           0          1              0              4680   \n",
       "611       0        1           2          1              1              6633   \n",
       "612       0        1           1          0              0              2492   \n",
       "613       0        1           0          0              0              2400   \n",
       "\n",
       "     Coapplicant_Income  Loan_Amount  Loan_Amount_Term  Credit_History  \\\n",
       "0                   0.0            9               360               1   \n",
       "1                1086.0           17               120               1   \n",
       "2                   0.0           25               120               1   \n",
       "3                   0.0           25               120               1   \n",
       "4                1032.0           26               360               1   \n",
       "..                  ...          ...               ...             ...   \n",
       "609              1603.0           10               360               1   \n",
       "610              2087.0           15               360               1   \n",
       "611                 0.0           25               360               0   \n",
       "612              2375.0           30               360               1   \n",
       "613              3800.0           25               180               1   \n",
       "\n",
       "     Property_Area  \n",
       "0                1  \n",
       "1                1  \n",
       "2                1  \n",
       "3                1  \n",
       "4                1  \n",
       "..             ...  \n",
       "609              1  \n",
       "610              1  \n",
       "611              0  \n",
       "612              0  \n",
       "613              1  \n",
       "\n",
       "[614 rows x 11 columns]"
      ]
     },
     "execution_count": 105,
     "metadata": {},
     "output_type": "execute_result"
    }
   ],
   "source": [
    "X"
   ]
  },
  {
   "cell_type": "code",
   "execution_count": null,
   "id": "a0f8f9a5",
   "metadata": {},
   "outputs": [],
   "source": []
  },
  {
   "cell_type": "markdown",
   "id": "055c26f4",
   "metadata": {},
   "source": [
    "# Chuẩn hóa biến X\n"
   ]
  },
  {
   "cell_type": "markdown",
   "id": "0dc648ad",
   "metadata": {},
   "source": [
    "Chuẩn hóa dữ liệu: Chuẩn hóa dữ liệu là một quy trình xử lý dữ liệu nhằm chuyển đổi cấu trúc của các bộ dữ liệu khác nhau thành một định dạng chung của dữ liệu. Nó xử lý việc chuyển đổi bộ dữ liệu sau khi dữ liệu được thu thập từ các nguồn khác nhau và trước khi nó được tải vào các hệ thống ."
   ]
  },
  {
   "cell_type": "code",
   "execution_count": 31,
   "id": "05977831",
   "metadata": {},
   "outputs": [],
   "source": [
    "X_std = X[['Applicant_Income','Coapplicant_Income','Loan_Amount','Loan_Amount_Term']]"
   ]
  },
  {
   "cell_type": "code",
   "execution_count": 32,
   "id": "fc89b957",
   "metadata": {},
   "outputs": [],
   "source": [
    "#from sklearn.preprocessing import StandardScaler"
   ]
  },
  {
   "cell_type": "code",
   "execution_count": 33,
   "id": "8b2af0a2",
   "metadata": {},
   "outputs": [],
   "source": [
    "#ss = StandardScaler()"
   ]
  },
  {
   "cell_type": "code",
   "execution_count": 34,
   "id": "424efc70",
   "metadata": {},
   "outputs": [],
   "source": [
    "#X_std = ss.fit_transform(X_std)"
   ]
  },
  {
   "cell_type": "code",
   "execution_count": 35,
   "id": "1df754d4",
   "metadata": {},
   "outputs": [
    {
     "data": {
      "text/html": [
       "<div>\n",
       "<style scoped>\n",
       "    .dataframe tbody tr th:only-of-type {\n",
       "        vertical-align: middle;\n",
       "    }\n",
       "\n",
       "    .dataframe tbody tr th {\n",
       "        vertical-align: top;\n",
       "    }\n",
       "\n",
       "    .dataframe thead th {\n",
       "        text-align: right;\n",
       "    }\n",
       "</style>\n",
       "<table border=\"1\" class=\"dataframe\">\n",
       "  <thead>\n",
       "    <tr style=\"text-align: right;\">\n",
       "      <th></th>\n",
       "      <th>Applicant_Income</th>\n",
       "      <th>Coapplicant_Income</th>\n",
       "      <th>Loan_Amount</th>\n",
       "      <th>Loan_Amount_Term</th>\n",
       "    </tr>\n",
       "  </thead>\n",
       "  <tbody>\n",
       "    <tr>\n",
       "      <th>0</th>\n",
       "      <td>2378</td>\n",
       "      <td>0.0</td>\n",
       "      <td>9</td>\n",
       "      <td>360</td>\n",
       "    </tr>\n",
       "    <tr>\n",
       "      <th>1</th>\n",
       "      <td>1299</td>\n",
       "      <td>1086.0</td>\n",
       "      <td>17</td>\n",
       "      <td>120</td>\n",
       "    </tr>\n",
       "    <tr>\n",
       "      <th>2</th>\n",
       "      <td>3620</td>\n",
       "      <td>0.0</td>\n",
       "      <td>25</td>\n",
       "      <td>120</td>\n",
       "    </tr>\n",
       "    <tr>\n",
       "      <th>3</th>\n",
       "      <td>3459</td>\n",
       "      <td>0.0</td>\n",
       "      <td>25</td>\n",
       "      <td>120</td>\n",
       "    </tr>\n",
       "    <tr>\n",
       "      <th>4</th>\n",
       "      <td>5468</td>\n",
       "      <td>1032.0</td>\n",
       "      <td>26</td>\n",
       "      <td>360</td>\n",
       "    </tr>\n",
       "    <tr>\n",
       "      <th>...</th>\n",
       "      <td>...</td>\n",
       "      <td>...</td>\n",
       "      <td>...</td>\n",
       "      <td>...</td>\n",
       "    </tr>\n",
       "    <tr>\n",
       "      <th>609</th>\n",
       "      <td>2947</td>\n",
       "      <td>1603.0</td>\n",
       "      <td>10</td>\n",
       "      <td>360</td>\n",
       "    </tr>\n",
       "    <tr>\n",
       "      <th>610</th>\n",
       "      <td>4680</td>\n",
       "      <td>2087.0</td>\n",
       "      <td>15</td>\n",
       "      <td>360</td>\n",
       "    </tr>\n",
       "    <tr>\n",
       "      <th>611</th>\n",
       "      <td>6633</td>\n",
       "      <td>0.0</td>\n",
       "      <td>25</td>\n",
       "      <td>360</td>\n",
       "    </tr>\n",
       "    <tr>\n",
       "      <th>612</th>\n",
       "      <td>2492</td>\n",
       "      <td>2375.0</td>\n",
       "      <td>30</td>\n",
       "      <td>360</td>\n",
       "    </tr>\n",
       "    <tr>\n",
       "      <th>613</th>\n",
       "      <td>2400</td>\n",
       "      <td>3800.0</td>\n",
       "      <td>25</td>\n",
       "      <td>180</td>\n",
       "    </tr>\n",
       "  </tbody>\n",
       "</table>\n",
       "<p>614 rows × 4 columns</p>\n",
       "</div>"
      ],
      "text/plain": [
       "     Applicant_Income  Coapplicant_Income  Loan_Amount  Loan_Amount_Term\n",
       "0                2378                 0.0            9               360\n",
       "1                1299              1086.0           17               120\n",
       "2                3620                 0.0           25               120\n",
       "3                3459                 0.0           25               120\n",
       "4                5468              1032.0           26               360\n",
       "..                ...                 ...          ...               ...\n",
       "609              2947              1603.0           10               360\n",
       "610              4680              2087.0           15               360\n",
       "611              6633                 0.0           25               360\n",
       "612              2492              2375.0           30               360\n",
       "613              2400              3800.0           25               180\n",
       "\n",
       "[614 rows x 4 columns]"
      ]
     },
     "execution_count": 35,
     "metadata": {},
     "output_type": "execute_result"
    }
   ],
   "source": [
    "X_std"
   ]
  },
  {
   "cell_type": "code",
   "execution_count": 36,
   "id": "9db67df3",
   "metadata": {},
   "outputs": [
    {
     "data": {
      "text/plain": [
       "(614, 4)"
      ]
     },
     "execution_count": 36,
     "metadata": {},
     "output_type": "execute_result"
    }
   ],
   "source": [
    "X_std.shape"
   ]
  },
  {
   "cell_type": "code",
   "execution_count": 37,
   "id": "a81b4a12",
   "metadata": {
    "scrolled": true
   },
   "outputs": [],
   "source": [
    "X[['Applicant_Income','Coapplicant_Income','Loan_Amount','Loan_Amount_Term']] = pd.DataFrame(X_std, columns =['Applicant_Income','Coapplicant_Income','Loan_Amount','Loan_Amount_Term'])"
   ]
  },
  {
   "cell_type": "code",
   "execution_count": 38,
   "id": "e3c12bde",
   "metadata": {
    "scrolled": true
   },
   "outputs": [
    {
     "data": {
      "text/html": [
       "<div>\n",
       "<style scoped>\n",
       "    .dataframe tbody tr th:only-of-type {\n",
       "        vertical-align: middle;\n",
       "    }\n",
       "\n",
       "    .dataframe tbody tr th {\n",
       "        vertical-align: top;\n",
       "    }\n",
       "\n",
       "    .dataframe thead th {\n",
       "        text-align: right;\n",
       "    }\n",
       "</style>\n",
       "<table border=\"1\" class=\"dataframe\">\n",
       "  <thead>\n",
       "    <tr style=\"text-align: right;\">\n",
       "      <th></th>\n",
       "      <th>Gender</th>\n",
       "      <th>Married</th>\n",
       "      <th>Dependents</th>\n",
       "      <th>Education</th>\n",
       "      <th>Self_Employed</th>\n",
       "      <th>Applicant_Income</th>\n",
       "      <th>Coapplicant_Income</th>\n",
       "      <th>Loan_Amount</th>\n",
       "      <th>Loan_Amount_Term</th>\n",
       "      <th>Credit_History</th>\n",
       "      <th>Property_Area</th>\n",
       "    </tr>\n",
       "  </thead>\n",
       "  <tbody>\n",
       "    <tr>\n",
       "      <th>0</th>\n",
       "      <td>1</td>\n",
       "      <td>0</td>\n",
       "      <td>0</td>\n",
       "      <td>1</td>\n",
       "      <td>0</td>\n",
       "      <td>2378</td>\n",
       "      <td>0.0</td>\n",
       "      <td>9</td>\n",
       "      <td>360</td>\n",
       "      <td>1</td>\n",
       "      <td>1</td>\n",
       "    </tr>\n",
       "    <tr>\n",
       "      <th>1</th>\n",
       "      <td>0</td>\n",
       "      <td>1</td>\n",
       "      <td>2</td>\n",
       "      <td>1</td>\n",
       "      <td>0</td>\n",
       "      <td>1299</td>\n",
       "      <td>1086.0</td>\n",
       "      <td>17</td>\n",
       "      <td>120</td>\n",
       "      <td>1</td>\n",
       "      <td>1</td>\n",
       "    </tr>\n",
       "    <tr>\n",
       "      <th>2</th>\n",
       "      <td>0</td>\n",
       "      <td>0</td>\n",
       "      <td>0</td>\n",
       "      <td>0</td>\n",
       "      <td>0</td>\n",
       "      <td>3620</td>\n",
       "      <td>0.0</td>\n",
       "      <td>25</td>\n",
       "      <td>120</td>\n",
       "      <td>1</td>\n",
       "      <td>1</td>\n",
       "    </tr>\n",
       "    <tr>\n",
       "      <th>3</th>\n",
       "      <td>0</td>\n",
       "      <td>1</td>\n",
       "      <td>0</td>\n",
       "      <td>1</td>\n",
       "      <td>1</td>\n",
       "      <td>3459</td>\n",
       "      <td>0.0</td>\n",
       "      <td>25</td>\n",
       "      <td>120</td>\n",
       "      <td>1</td>\n",
       "      <td>1</td>\n",
       "    </tr>\n",
       "    <tr>\n",
       "      <th>4</th>\n",
       "      <td>0</td>\n",
       "      <td>1</td>\n",
       "      <td>1</td>\n",
       "      <td>1</td>\n",
       "      <td>0</td>\n",
       "      <td>5468</td>\n",
       "      <td>1032.0</td>\n",
       "      <td>26</td>\n",
       "      <td>360</td>\n",
       "      <td>1</td>\n",
       "      <td>1</td>\n",
       "    </tr>\n",
       "    <tr>\n",
       "      <th>5</th>\n",
       "      <td>0</td>\n",
       "      <td>1</td>\n",
       "      <td>1</td>\n",
       "      <td>1</td>\n",
       "      <td>0</td>\n",
       "      <td>1538</td>\n",
       "      <td>1425.0</td>\n",
       "      <td>30</td>\n",
       "      <td>360</td>\n",
       "      <td>1</td>\n",
       "      <td>1</td>\n",
       "    </tr>\n",
       "    <tr>\n",
       "      <th>6</th>\n",
       "      <td>1</td>\n",
       "      <td>0</td>\n",
       "      <td>0</td>\n",
       "      <td>1</td>\n",
       "      <td>0</td>\n",
       "      <td>3237</td>\n",
       "      <td>0.0</td>\n",
       "      <td>30</td>\n",
       "      <td>360</td>\n",
       "      <td>1</td>\n",
       "      <td>1</td>\n",
       "    </tr>\n",
       "    <tr>\n",
       "      <th>7</th>\n",
       "      <td>0</td>\n",
       "      <td>0</td>\n",
       "      <td>0</td>\n",
       "      <td>0</td>\n",
       "      <td>0</td>\n",
       "      <td>1442</td>\n",
       "      <td>0.0</td>\n",
       "      <td>35</td>\n",
       "      <td>360</td>\n",
       "      <td>1</td>\n",
       "      <td>1</td>\n",
       "    </tr>\n",
       "    <tr>\n",
       "      <th>8</th>\n",
       "      <td>1</td>\n",
       "      <td>1</td>\n",
       "      <td>0</td>\n",
       "      <td>1</td>\n",
       "      <td>0</td>\n",
       "      <td>3166</td>\n",
       "      <td>0.0</td>\n",
       "      <td>36</td>\n",
       "      <td>360</td>\n",
       "      <td>1</td>\n",
       "      <td>1</td>\n",
       "    </tr>\n",
       "    <tr>\n",
       "      <th>9</th>\n",
       "      <td>1</td>\n",
       "      <td>0</td>\n",
       "      <td>1</td>\n",
       "      <td>1</td>\n",
       "      <td>0</td>\n",
       "      <td>13262</td>\n",
       "      <td>0.0</td>\n",
       "      <td>40</td>\n",
       "      <td>360</td>\n",
       "      <td>1</td>\n",
       "      <td>1</td>\n",
       "    </tr>\n",
       "    <tr>\n",
       "      <th>10</th>\n",
       "      <td>0</td>\n",
       "      <td>1</td>\n",
       "      <td>4</td>\n",
       "      <td>1</td>\n",
       "      <td>0</td>\n",
       "      <td>4106</td>\n",
       "      <td>0.0</td>\n",
       "      <td>40</td>\n",
       "      <td>180</td>\n",
       "      <td>1</td>\n",
       "      <td>0</td>\n",
       "    </tr>\n",
       "    <tr>\n",
       "      <th>11</th>\n",
       "      <td>0</td>\n",
       "      <td>1</td>\n",
       "      <td>0</td>\n",
       "      <td>1</td>\n",
       "      <td>0</td>\n",
       "      <td>3716</td>\n",
       "      <td>0.0</td>\n",
       "      <td>42</td>\n",
       "      <td>180</td>\n",
       "      <td>1</td>\n",
       "      <td>0</td>\n",
       "    </tr>\n",
       "    <tr>\n",
       "      <th>12</th>\n",
       "      <td>0</td>\n",
       "      <td>1</td>\n",
       "      <td>1</td>\n",
       "      <td>1</td>\n",
       "      <td>0</td>\n",
       "      <td>5649</td>\n",
       "      <td>0.0</td>\n",
       "      <td>44</td>\n",
       "      <td>360</td>\n",
       "      <td>1</td>\n",
       "      <td>1</td>\n",
       "    </tr>\n",
       "    <tr>\n",
       "      <th>13</th>\n",
       "      <td>1</td>\n",
       "      <td>0</td>\n",
       "      <td>0</td>\n",
       "      <td>1</td>\n",
       "      <td>0</td>\n",
       "      <td>4166</td>\n",
       "      <td>0.0</td>\n",
       "      <td>44</td>\n",
       "      <td>360</td>\n",
       "      <td>1</td>\n",
       "      <td>1</td>\n",
       "    </tr>\n",
       "    <tr>\n",
       "      <th>14</th>\n",
       "      <td>0</td>\n",
       "      <td>1</td>\n",
       "      <td>2</td>\n",
       "      <td>0</td>\n",
       "      <td>0</td>\n",
       "      <td>2889</td>\n",
       "      <td>0.0</td>\n",
       "      <td>45</td>\n",
       "      <td>180</td>\n",
       "      <td>0</td>\n",
       "      <td>1</td>\n",
       "    </tr>\n",
       "    <tr>\n",
       "      <th>15</th>\n",
       "      <td>0</td>\n",
       "      <td>1</td>\n",
       "      <td>2</td>\n",
       "      <td>0</td>\n",
       "      <td>0</td>\n",
       "      <td>2192</td>\n",
       "      <td>1742.0</td>\n",
       "      <td>45</td>\n",
       "      <td>360</td>\n",
       "      <td>1</td>\n",
       "      <td>1</td>\n",
       "    </tr>\n",
       "    <tr>\n",
       "      <th>16</th>\n",
       "      <td>1</td>\n",
       "      <td>0</td>\n",
       "      <td>0</td>\n",
       "      <td>1</td>\n",
       "      <td>0</td>\n",
       "      <td>2378</td>\n",
       "      <td>0.0</td>\n",
       "      <td>46</td>\n",
       "      <td>360</td>\n",
       "      <td>1</td>\n",
       "      <td>0</td>\n",
       "    </tr>\n",
       "    <tr>\n",
       "      <th>17</th>\n",
       "      <td>0</td>\n",
       "      <td>0</td>\n",
       "      <td>0</td>\n",
       "      <td>1</td>\n",
       "      <td>0</td>\n",
       "      <td>1800</td>\n",
       "      <td>1213.0</td>\n",
       "      <td>47</td>\n",
       "      <td>360</td>\n",
       "      <td>1</td>\n",
       "      <td>1</td>\n",
       "    </tr>\n",
       "    <tr>\n",
       "      <th>18</th>\n",
       "      <td>0</td>\n",
       "      <td>0</td>\n",
       "      <td>0</td>\n",
       "      <td>0</td>\n",
       "      <td>0</td>\n",
       "      <td>4885</td>\n",
       "      <td>0.0</td>\n",
       "      <td>48</td>\n",
       "      <td>360</td>\n",
       "      <td>1</td>\n",
       "      <td>0</td>\n",
       "    </tr>\n",
       "    <tr>\n",
       "      <th>19</th>\n",
       "      <td>0</td>\n",
       "      <td>1</td>\n",
       "      <td>1</td>\n",
       "      <td>1</td>\n",
       "      <td>0</td>\n",
       "      <td>3988</td>\n",
       "      <td>0.0</td>\n",
       "      <td>50</td>\n",
       "      <td>240</td>\n",
       "      <td>1</td>\n",
       "      <td>1</td>\n",
       "    </tr>\n",
       "    <tr>\n",
       "      <th>20</th>\n",
       "      <td>0</td>\n",
       "      <td>1</td>\n",
       "      <td>0</td>\n",
       "      <td>1</td>\n",
       "      <td>0</td>\n",
       "      <td>1977</td>\n",
       "      <td>997.0</td>\n",
       "      <td>50</td>\n",
       "      <td>360</td>\n",
       "      <td>1</td>\n",
       "      <td>1</td>\n",
       "    </tr>\n",
       "    <tr>\n",
       "      <th>21</th>\n",
       "      <td>0</td>\n",
       "      <td>0</td>\n",
       "      <td>0</td>\n",
       "      <td>1</td>\n",
       "      <td>0</td>\n",
       "      <td>3254</td>\n",
       "      <td>0.0</td>\n",
       "      <td>50</td>\n",
       "      <td>360</td>\n",
       "      <td>1</td>\n",
       "      <td>1</td>\n",
       "    </tr>\n",
       "    <tr>\n",
       "      <th>22</th>\n",
       "      <td>0</td>\n",
       "      <td>0</td>\n",
       "      <td>0</td>\n",
       "      <td>1</td>\n",
       "      <td>0</td>\n",
       "      <td>1926</td>\n",
       "      <td>1851.0</td>\n",
       "      <td>50</td>\n",
       "      <td>360</td>\n",
       "      <td>1</td>\n",
       "      <td>1</td>\n",
       "    </tr>\n",
       "    <tr>\n",
       "      <th>23</th>\n",
       "      <td>1</td>\n",
       "      <td>0</td>\n",
       "      <td>0</td>\n",
       "      <td>0</td>\n",
       "      <td>0</td>\n",
       "      <td>1963</td>\n",
       "      <td>0.0</td>\n",
       "      <td>53</td>\n",
       "      <td>360</td>\n",
       "      <td>1</td>\n",
       "      <td>1</td>\n",
       "    </tr>\n",
       "    <tr>\n",
       "      <th>24</th>\n",
       "      <td>1</td>\n",
       "      <td>0</td>\n",
       "      <td>0</td>\n",
       "      <td>1</td>\n",
       "      <td>0</td>\n",
       "      <td>1811</td>\n",
       "      <td>1666.0</td>\n",
       "      <td>54</td>\n",
       "      <td>360</td>\n",
       "      <td>1</td>\n",
       "      <td>1</td>\n",
       "    </tr>\n",
       "    <tr>\n",
       "      <th>25</th>\n",
       "      <td>0</td>\n",
       "      <td>0</td>\n",
       "      <td>0</td>\n",
       "      <td>0</td>\n",
       "      <td>0</td>\n",
       "      <td>3975</td>\n",
       "      <td>2531.0</td>\n",
       "      <td>55</td>\n",
       "      <td>360</td>\n",
       "      <td>1</td>\n",
       "      <td>0</td>\n",
       "    </tr>\n",
       "    <tr>\n",
       "      <th>26</th>\n",
       "      <td>1</td>\n",
       "      <td>0</td>\n",
       "      <td>0</td>\n",
       "      <td>1</td>\n",
       "      <td>1</td>\n",
       "      <td>15759</td>\n",
       "      <td>0.0</td>\n",
       "      <td>55</td>\n",
       "      <td>360</td>\n",
       "      <td>1</td>\n",
       "      <td>1</td>\n",
       "    </tr>\n",
       "    <tr>\n",
       "      <th>27</th>\n",
       "      <td>0</td>\n",
       "      <td>1</td>\n",
       "      <td>0</td>\n",
       "      <td>1</td>\n",
       "      <td>0</td>\n",
       "      <td>3539</td>\n",
       "      <td>1376.0</td>\n",
       "      <td>55</td>\n",
       "      <td>360</td>\n",
       "      <td>1</td>\n",
       "      <td>0</td>\n",
       "    </tr>\n",
       "    <tr>\n",
       "      <th>28</th>\n",
       "      <td>0</td>\n",
       "      <td>0</td>\n",
       "      <td>0</td>\n",
       "      <td>1</td>\n",
       "      <td>0</td>\n",
       "      <td>2500</td>\n",
       "      <td>0.0</td>\n",
       "      <td>55</td>\n",
       "      <td>360</td>\n",
       "      <td>1</td>\n",
       "      <td>1</td>\n",
       "    </tr>\n",
       "    <tr>\n",
       "      <th>29</th>\n",
       "      <td>1</td>\n",
       "      <td>0</td>\n",
       "      <td>0</td>\n",
       "      <td>1</td>\n",
       "      <td>0</td>\n",
       "      <td>2507</td>\n",
       "      <td>0.0</td>\n",
       "      <td>56</td>\n",
       "      <td>360</td>\n",
       "      <td>1</td>\n",
       "      <td>0</td>\n",
       "    </tr>\n",
       "    <tr>\n",
       "      <th>30</th>\n",
       "      <td>0</td>\n",
       "      <td>1</td>\n",
       "      <td>0</td>\n",
       "      <td>1</td>\n",
       "      <td>0</td>\n",
       "      <td>3000</td>\n",
       "      <td>3416.0</td>\n",
       "      <td>56</td>\n",
       "      <td>180</td>\n",
       "      <td>1</td>\n",
       "      <td>1</td>\n",
       "    </tr>\n",
       "    <tr>\n",
       "      <th>31</th>\n",
       "      <td>0</td>\n",
       "      <td>1</td>\n",
       "      <td>0</td>\n",
       "      <td>1</td>\n",
       "      <td>0</td>\n",
       "      <td>2383</td>\n",
       "      <td>2138.0</td>\n",
       "      <td>58</td>\n",
       "      <td>360</td>\n",
       "      <td>1</td>\n",
       "      <td>0</td>\n",
       "    </tr>\n",
       "    <tr>\n",
       "      <th>32</th>\n",
       "      <td>0</td>\n",
       "      <td>0</td>\n",
       "      <td>0</td>\n",
       "      <td>1</td>\n",
       "      <td>0</td>\n",
       "      <td>2479</td>\n",
       "      <td>0.0</td>\n",
       "      <td>59</td>\n",
       "      <td>360</td>\n",
       "      <td>1</td>\n",
       "      <td>1</td>\n",
       "    </tr>\n",
       "    <tr>\n",
       "      <th>33</th>\n",
       "      <td>0</td>\n",
       "      <td>1</td>\n",
       "      <td>0</td>\n",
       "      <td>1</td>\n",
       "      <td>0</td>\n",
       "      <td>2221</td>\n",
       "      <td>0.0</td>\n",
       "      <td>60</td>\n",
       "      <td>360</td>\n",
       "      <td>0</td>\n",
       "      <td>1</td>\n",
       "    </tr>\n",
       "    <tr>\n",
       "      <th>34</th>\n",
       "      <td>1</td>\n",
       "      <td>0</td>\n",
       "      <td>0</td>\n",
       "      <td>1</td>\n",
       "      <td>0</td>\n",
       "      <td>2995</td>\n",
       "      <td>0.0</td>\n",
       "      <td>60</td>\n",
       "      <td>360</td>\n",
       "      <td>1</td>\n",
       "      <td>1</td>\n",
       "    </tr>\n",
       "    <tr>\n",
       "      <th>35</th>\n",
       "      <td>0</td>\n",
       "      <td>0</td>\n",
       "      <td>0</td>\n",
       "      <td>0</td>\n",
       "      <td>0</td>\n",
       "      <td>2717</td>\n",
       "      <td>0.0</td>\n",
       "      <td>60</td>\n",
       "      <td>180</td>\n",
       "      <td>1</td>\n",
       "      <td>1</td>\n",
       "    </tr>\n",
       "    <tr>\n",
       "      <th>36</th>\n",
       "      <td>0</td>\n",
       "      <td>1</td>\n",
       "      <td>2</td>\n",
       "      <td>0</td>\n",
       "      <td>0</td>\n",
       "      <td>1958</td>\n",
       "      <td>1456.0</td>\n",
       "      <td>60</td>\n",
       "      <td>300</td>\n",
       "      <td>1</td>\n",
       "      <td>1</td>\n",
       "    </tr>\n",
       "    <tr>\n",
       "      <th>37</th>\n",
       "      <td>0</td>\n",
       "      <td>1</td>\n",
       "      <td>1</td>\n",
       "      <td>1</td>\n",
       "      <td>0</td>\n",
       "      <td>1880</td>\n",
       "      <td>0.0</td>\n",
       "      <td>61</td>\n",
       "      <td>360</td>\n",
       "      <td>1</td>\n",
       "      <td>0</td>\n",
       "    </tr>\n",
       "    <tr>\n",
       "      <th>38</th>\n",
       "      <td>1</td>\n",
       "      <td>0</td>\n",
       "      <td>1</td>\n",
       "      <td>0</td>\n",
       "      <td>1</td>\n",
       "      <td>3867</td>\n",
       "      <td>0.0</td>\n",
       "      <td>62</td>\n",
       "      <td>360</td>\n",
       "      <td>1</td>\n",
       "      <td>1</td>\n",
       "    </tr>\n",
       "    <tr>\n",
       "      <th>39</th>\n",
       "      <td>0</td>\n",
       "      <td>0</td>\n",
       "      <td>0</td>\n",
       "      <td>1</td>\n",
       "      <td>0</td>\n",
       "      <td>2237</td>\n",
       "      <td>0.0</td>\n",
       "      <td>63</td>\n",
       "      <td>480</td>\n",
       "      <td>0</td>\n",
       "      <td>1</td>\n",
       "    </tr>\n",
       "    <tr>\n",
       "      <th>40</th>\n",
       "      <td>0</td>\n",
       "      <td>0</td>\n",
       "      <td>0</td>\n",
       "      <td>0</td>\n",
       "      <td>0</td>\n",
       "      <td>2755</td>\n",
       "      <td>0.0</td>\n",
       "      <td>65</td>\n",
       "      <td>300</td>\n",
       "      <td>1</td>\n",
       "      <td>0</td>\n",
       "    </tr>\n",
       "    <tr>\n",
       "      <th>41</th>\n",
       "      <td>0</td>\n",
       "      <td>1</td>\n",
       "      <td>0</td>\n",
       "      <td>1</td>\n",
       "      <td>1</td>\n",
       "      <td>3000</td>\n",
       "      <td>0.0</td>\n",
       "      <td>66</td>\n",
       "      <td>360</td>\n",
       "      <td>1</td>\n",
       "      <td>1</td>\n",
       "    </tr>\n",
       "    <tr>\n",
       "      <th>42</th>\n",
       "      <td>0</td>\n",
       "      <td>1</td>\n",
       "      <td>1</td>\n",
       "      <td>1</td>\n",
       "      <td>1</td>\n",
       "      <td>2178</td>\n",
       "      <td>0.0</td>\n",
       "      <td>66</td>\n",
       "      <td>300</td>\n",
       "      <td>0</td>\n",
       "      <td>0</td>\n",
       "    </tr>\n",
       "    <tr>\n",
       "      <th>43</th>\n",
       "      <td>1</td>\n",
       "      <td>0</td>\n",
       "      <td>0</td>\n",
       "      <td>0</td>\n",
       "      <td>0</td>\n",
       "      <td>2213</td>\n",
       "      <td>0.0</td>\n",
       "      <td>66</td>\n",
       "      <td>360</td>\n",
       "      <td>1</td>\n",
       "      <td>0</td>\n",
       "    </tr>\n",
       "    <tr>\n",
       "      <th>44</th>\n",
       "      <td>0</td>\n",
       "      <td>1</td>\n",
       "      <td>0</td>\n",
       "      <td>0</td>\n",
       "      <td>0</td>\n",
       "      <td>2917</td>\n",
       "      <td>536.0</td>\n",
       "      <td>66</td>\n",
       "      <td>360</td>\n",
       "      <td>1</td>\n",
       "      <td>0</td>\n",
       "    </tr>\n",
       "    <tr>\n",
       "      <th>45</th>\n",
       "      <td>0</td>\n",
       "      <td>0</td>\n",
       "      <td>0</td>\n",
       "      <td>1</td>\n",
       "      <td>0</td>\n",
       "      <td>1916</td>\n",
       "      <td>5063.0</td>\n",
       "      <td>67</td>\n",
       "      <td>360</td>\n",
       "      <td>1</td>\n",
       "      <td>0</td>\n",
       "    </tr>\n",
       "    <tr>\n",
       "      <th>46</th>\n",
       "      <td>1</td>\n",
       "      <td>0</td>\n",
       "      <td>0</td>\n",
       "      <td>1</td>\n",
       "      <td>0</td>\n",
       "      <td>2500</td>\n",
       "      <td>0.0</td>\n",
       "      <td>67</td>\n",
       "      <td>360</td>\n",
       "      <td>1</td>\n",
       "      <td>1</td>\n",
       "    </tr>\n",
       "    <tr>\n",
       "      <th>47</th>\n",
       "      <td>0</td>\n",
       "      <td>1</td>\n",
       "      <td>1</td>\n",
       "      <td>1</td>\n",
       "      <td>0</td>\n",
       "      <td>3875</td>\n",
       "      <td>0.0</td>\n",
       "      <td>67</td>\n",
       "      <td>360</td>\n",
       "      <td>1</td>\n",
       "      <td>1</td>\n",
       "    </tr>\n",
       "    <tr>\n",
       "      <th>48</th>\n",
       "      <td>0</td>\n",
       "      <td>1</td>\n",
       "      <td>2</td>\n",
       "      <td>1</td>\n",
       "      <td>0</td>\n",
       "      <td>3200</td>\n",
       "      <td>700.0</td>\n",
       "      <td>70</td>\n",
       "      <td>360</td>\n",
       "      <td>1</td>\n",
       "      <td>1</td>\n",
       "    </tr>\n",
       "    <tr>\n",
       "      <th>49</th>\n",
       "      <td>0</td>\n",
       "      <td>0</td>\n",
       "      <td>0</td>\n",
       "      <td>1</td>\n",
       "      <td>0</td>\n",
       "      <td>2718</td>\n",
       "      <td>0.0</td>\n",
       "      <td>70</td>\n",
       "      <td>360</td>\n",
       "      <td>1</td>\n",
       "      <td>1</td>\n",
       "    </tr>\n",
       "  </tbody>\n",
       "</table>\n",
       "</div>"
      ],
      "text/plain": [
       "    Gender  Married  Dependents  Education  Self_Employed  Applicant_Income  \\\n",
       "0        1        0           0          1              0              2378   \n",
       "1        0        1           2          1              0              1299   \n",
       "2        0        0           0          0              0              3620   \n",
       "3        0        1           0          1              1              3459   \n",
       "4        0        1           1          1              0              5468   \n",
       "5        0        1           1          1              0              1538   \n",
       "6        1        0           0          1              0              3237   \n",
       "7        0        0           0          0              0              1442   \n",
       "8        1        1           0          1              0              3166   \n",
       "9        1        0           1          1              0             13262   \n",
       "10       0        1           4          1              0              4106   \n",
       "11       0        1           0          1              0              3716   \n",
       "12       0        1           1          1              0              5649   \n",
       "13       1        0           0          1              0              4166   \n",
       "14       0        1           2          0              0              2889   \n",
       "15       0        1           2          0              0              2192   \n",
       "16       1        0           0          1              0              2378   \n",
       "17       0        0           0          1              0              1800   \n",
       "18       0        0           0          0              0              4885   \n",
       "19       0        1           1          1              0              3988   \n",
       "20       0        1           0          1              0              1977   \n",
       "21       0        0           0          1              0              3254   \n",
       "22       0        0           0          1              0              1926   \n",
       "23       1        0           0          0              0              1963   \n",
       "24       1        0           0          1              0              1811   \n",
       "25       0        0           0          0              0              3975   \n",
       "26       1        0           0          1              1             15759   \n",
       "27       0        1           0          1              0              3539   \n",
       "28       0        0           0          1              0              2500   \n",
       "29       1        0           0          1              0              2507   \n",
       "30       0        1           0          1              0              3000   \n",
       "31       0        1           0          1              0              2383   \n",
       "32       0        0           0          1              0              2479   \n",
       "33       0        1           0          1              0              2221   \n",
       "34       1        0           0          1              0              2995   \n",
       "35       0        0           0          0              0              2717   \n",
       "36       0        1           2          0              0              1958   \n",
       "37       0        1           1          1              0              1880   \n",
       "38       1        0           1          0              1              3867   \n",
       "39       0        0           0          1              0              2237   \n",
       "40       0        0           0          0              0              2755   \n",
       "41       0        1           0          1              1              3000   \n",
       "42       0        1           1          1              1              2178   \n",
       "43       1        0           0          0              0              2213   \n",
       "44       0        1           0          0              0              2917   \n",
       "45       0        0           0          1              0              1916   \n",
       "46       1        0           0          1              0              2500   \n",
       "47       0        1           1          1              0              3875   \n",
       "48       0        1           2          1              0              3200   \n",
       "49       0        0           0          1              0              2718   \n",
       "\n",
       "    Coapplicant_Income  Loan_Amount  Loan_Amount_Term  Credit_History  \\\n",
       "0                  0.0            9               360               1   \n",
       "1               1086.0           17               120               1   \n",
       "2                  0.0           25               120               1   \n",
       "3                  0.0           25               120               1   \n",
       "4               1032.0           26               360               1   \n",
       "5               1425.0           30               360               1   \n",
       "6                  0.0           30               360               1   \n",
       "7                  0.0           35               360               1   \n",
       "8                  0.0           36               360               1   \n",
       "9                  0.0           40               360               1   \n",
       "10                 0.0           40               180               1   \n",
       "11                 0.0           42               180               1   \n",
       "12                 0.0           44               360               1   \n",
       "13                 0.0           44               360               1   \n",
       "14                 0.0           45               180               0   \n",
       "15              1742.0           45               360               1   \n",
       "16                 0.0           46               360               1   \n",
       "17              1213.0           47               360               1   \n",
       "18                 0.0           48               360               1   \n",
       "19                 0.0           50               240               1   \n",
       "20               997.0           50               360               1   \n",
       "21                 0.0           50               360               1   \n",
       "22              1851.0           50               360               1   \n",
       "23                 0.0           53               360               1   \n",
       "24              1666.0           54               360               1   \n",
       "25              2531.0           55               360               1   \n",
       "26                 0.0           55               360               1   \n",
       "27              1376.0           55               360               1   \n",
       "28                 0.0           55               360               1   \n",
       "29                 0.0           56               360               1   \n",
       "30              3416.0           56               180               1   \n",
       "31              2138.0           58               360               1   \n",
       "32                 0.0           59               360               1   \n",
       "33                 0.0           60               360               0   \n",
       "34                 0.0           60               360               1   \n",
       "35                 0.0           60               180               1   \n",
       "36              1456.0           60               300               1   \n",
       "37                 0.0           61               360               1   \n",
       "38                 0.0           62               360               1   \n",
       "39                 0.0           63               480               0   \n",
       "40                 0.0           65               300               1   \n",
       "41                 0.0           66               360               1   \n",
       "42                 0.0           66               300               0   \n",
       "43                 0.0           66               360               1   \n",
       "44               536.0           66               360               1   \n",
       "45              5063.0           67               360               1   \n",
       "46                 0.0           67               360               1   \n",
       "47                 0.0           67               360               1   \n",
       "48               700.0           70               360               1   \n",
       "49                 0.0           70               360               1   \n",
       "\n",
       "    Property_Area  \n",
       "0               1  \n",
       "1               1  \n",
       "2               1  \n",
       "3               1  \n",
       "4               1  \n",
       "5               1  \n",
       "6               1  \n",
       "7               1  \n",
       "8               1  \n",
       "9               1  \n",
       "10              0  \n",
       "11              0  \n",
       "12              1  \n",
       "13              1  \n",
       "14              1  \n",
       "15              1  \n",
       "16              0  \n",
       "17              1  \n",
       "18              0  \n",
       "19              1  \n",
       "20              1  \n",
       "21              1  \n",
       "22              1  \n",
       "23              1  \n",
       "24              1  \n",
       "25              0  \n",
       "26              1  \n",
       "27              0  \n",
       "28              1  \n",
       "29              0  \n",
       "30              1  \n",
       "31              0  \n",
       "32              1  \n",
       "33              1  \n",
       "34              1  \n",
       "35              1  \n",
       "36              1  \n",
       "37              0  \n",
       "38              1  \n",
       "39              1  \n",
       "40              0  \n",
       "41              1  \n",
       "42              0  \n",
       "43              0  \n",
       "44              0  \n",
       "45              0  \n",
       "46              1  \n",
       "47              1  \n",
       "48              1  \n",
       "49              1  "
      ]
     },
     "execution_count": 38,
     "metadata": {},
     "output_type": "execute_result"
    }
   ],
   "source": [
    "X.head(50)"
   ]
  },
  {
   "cell_type": "markdown",
   "id": "cd1d622a",
   "metadata": {},
   "source": [
    "# Chia tập Train và Test\n"
   ]
  },
  {
   "cell_type": "code",
   "execution_count": 39,
   "id": "082ae9d7",
   "metadata": {},
   "outputs": [],
   "source": [
    "from sklearn.model_selection import train_test_split"
   ]
  },
  {
   "cell_type": "code",
   "execution_count": 40,
   "id": "74ccfef4",
   "metadata": {},
   "outputs": [],
   "source": [
    "X_train, X_test, y_train, y_test = train_test_split(X,y, test_size =0.3, stratify = y, random_state=42)"
   ]
  },
  {
   "cell_type": "code",
   "execution_count": 41,
   "id": "153179c1",
   "metadata": {},
   "outputs": [
    {
     "data": {
      "text/plain": [
       "((429, 11), (185, 11), (429,), (185,))"
      ]
     },
     "execution_count": 41,
     "metadata": {},
     "output_type": "execute_result"
    }
   ],
   "source": [
    "X_train.shape, X_test.shape, y_train.shape, y_test.shape"
   ]
  },
  {
   "cell_type": "markdown",
   "id": "0cfde451",
   "metadata": {},
   "source": [
    "\n",
    "# Huấn luyện Model"
   ]
  },
  {
   "cell_type": "code",
   "execution_count": 42,
   "id": "75048c26",
   "metadata": {},
   "outputs": [],
   "source": [
    "from sklearn.tree import DecisionTreeClassifier"
   ]
  },
  {
   "cell_type": "code",
   "execution_count": 43,
   "id": "983fc888",
   "metadata": {},
   "outputs": [],
   "source": [
    "dt = DecisionTreeClassifier(max_depth=3, random_state=2529) "
   ]
  },
  {
   "cell_type": "code",
   "execution_count": 44,
   "id": "f2813458",
   "metadata": {},
   "outputs": [
    {
     "data": {
      "text/plain": [
       "DecisionTreeClassifier(max_depth=3, random_state=2529)"
      ]
     },
     "execution_count": 44,
     "metadata": {},
     "output_type": "execute_result"
    }
   ],
   "source": [
    "dt.fit(X_train, y_train)"
   ]
  },
  {
   "cell_type": "markdown",
   "id": "9b850242",
   "metadata": {},
   "source": [
    "# Dự đoán mô hình"
   ]
  },
  {
   "cell_type": "code",
   "execution_count": 45,
   "id": "96d9d406",
   "metadata": {},
   "outputs": [],
   "source": [
    "y_pred = dt.predict(X_test)"
   ]
  },
  {
   "cell_type": "code",
   "execution_count": 46,
   "id": "68afd122",
   "metadata": {},
   "outputs": [
    {
     "data": {
      "text/plain": [
       "(185,)"
      ]
     },
     "execution_count": 46,
     "metadata": {},
     "output_type": "execute_result"
    }
   ],
   "source": [
    "y_pred.shape"
   ]
  },
  {
   "cell_type": "code",
   "execution_count": 47,
   "id": "afa774f9",
   "metadata": {},
   "outputs": [
    {
     "data": {
      "text/plain": [
       "array(['Y', 'Y', 'Y', 'Y', 'Y', 'Y', 'Y', 'Y', 'Y', 'Y', 'Y', 'N', 'N',\n",
       "       'Y', 'N', 'Y', 'Y', 'N', 'Y', 'Y', 'Y', 'Y', 'Y', 'Y', 'Y', 'Y',\n",
       "       'Y', 'N', 'Y', 'N', 'Y', 'Y', 'Y', 'Y', 'N', 'Y', 'N', 'Y', 'N',\n",
       "       'N', 'N', 'Y', 'Y', 'Y', 'Y', 'Y', 'Y', 'Y', 'Y', 'Y', 'Y', 'Y',\n",
       "       'Y', 'N', 'N', 'Y', 'N', 'Y', 'Y', 'N', 'Y', 'Y', 'Y', 'Y', 'Y',\n",
       "       'Y', 'N', 'Y', 'N', 'Y', 'Y', 'Y', 'Y', 'Y', 'N', 'Y', 'Y', 'N',\n",
       "       'Y', 'Y', 'Y', 'Y', 'Y', 'Y', 'Y', 'Y', 'N', 'Y', 'Y', 'Y', 'Y',\n",
       "       'Y', 'N', 'Y', 'Y', 'Y', 'Y', 'Y', 'N', 'Y', 'Y', 'Y', 'Y', 'Y',\n",
       "       'Y', 'Y', 'Y', 'Y', 'N', 'Y', 'Y', 'Y', 'Y', 'N', 'N', 'Y', 'Y',\n",
       "       'Y', 'Y', 'Y', 'Y', 'Y', 'Y', 'Y', 'N', 'Y', 'Y', 'Y', 'Y', 'Y',\n",
       "       'Y', 'Y', 'Y', 'Y', 'Y', 'Y', 'N', 'Y', 'Y', 'Y', 'Y', 'Y', 'Y',\n",
       "       'N', 'Y', 'N', 'Y', 'Y', 'Y', 'N', 'Y', 'Y', 'Y', 'Y', 'N', 'Y',\n",
       "       'Y', 'Y', 'Y', 'N', 'Y', 'Y', 'Y', 'Y', 'N', 'Y', 'Y', 'Y', 'Y',\n",
       "       'Y', 'Y', 'Y', 'Y', 'Y', 'Y', 'Y', 'Y', 'Y', 'N', 'Y', 'Y', 'Y',\n",
       "       'Y', 'N', 'Y'], dtype=object)"
      ]
     },
     "execution_count": 47,
     "metadata": {},
     "output_type": "execute_result"
    }
   ],
   "source": [
    "y_pred"
   ]
  },
  {
   "cell_type": "markdown",
   "id": "55dade23",
   "metadata": {},
   "source": [
    "# Lấy xác xuất của mỗi lớp dự đoán"
   ]
  },
  {
   "cell_type": "code",
   "execution_count": 48,
   "id": "091a8b46",
   "metadata": {
    "scrolled": true
   },
   "outputs": [
    {
     "data": {
      "text/plain": [
       "array([[0.16666667, 0.83333333],\n",
       "       [0.30434783, 0.69565217],\n",
       "       [0.16666667, 0.83333333],\n",
       "       [0.30434783, 0.69565217],\n",
       "       [0.16666667, 0.83333333],\n",
       "       [0.30434783, 0.69565217],\n",
       "       [0.16666667, 0.83333333],\n",
       "       [0.16666667, 0.83333333],\n",
       "       [0.16666667, 0.83333333],\n",
       "       [0.16666667, 0.83333333],\n",
       "       [0.16666667, 0.83333333],\n",
       "       [0.97222222, 0.02777778],\n",
       "       [0.86363636, 0.13636364],\n",
       "       [0.16666667, 0.83333333],\n",
       "       [0.86363636, 0.13636364],\n",
       "       [0.16666667, 0.83333333],\n",
       "       [0.16666667, 0.83333333],\n",
       "       [0.86363636, 0.13636364],\n",
       "       [0.30434783, 0.69565217],\n",
       "       [0.30434783, 0.69565217],\n",
       "       [0.16666667, 0.83333333],\n",
       "       [0.16666667, 0.83333333],\n",
       "       [0.16666667, 0.83333333],\n",
       "       [0.30434783, 0.69565217],\n",
       "       [0.16666667, 0.83333333],\n",
       "       [0.16666667, 0.83333333],\n",
       "       [0.16666667, 0.83333333],\n",
       "       [0.97222222, 0.02777778],\n",
       "       [0.16666667, 0.83333333],\n",
       "       [0.86363636, 0.13636364],\n",
       "       [0.16666667, 0.83333333],\n",
       "       [0.16666667, 0.83333333],\n",
       "       [0.16666667, 0.83333333],\n",
       "       [0.16666667, 0.83333333],\n",
       "       [0.97222222, 0.02777778],\n",
       "       [0.30434783, 0.69565217],\n",
       "       [0.86363636, 0.13636364],\n",
       "       [0.16666667, 0.83333333],\n",
       "       [0.86363636, 0.13636364],\n",
       "       [0.97222222, 0.02777778],\n",
       "       [0.97222222, 0.02777778],\n",
       "       [0.16666667, 0.83333333],\n",
       "       [0.16666667, 0.83333333],\n",
       "       [0.16666667, 0.83333333],\n",
       "       [0.16666667, 0.83333333],\n",
       "       [0.16666667, 0.83333333],\n",
       "       [0.30434783, 0.69565217],\n",
       "       [0.16666667, 0.83333333],\n",
       "       [0.16666667, 0.83333333],\n",
       "       [0.16666667, 0.83333333],\n",
       "       [0.30434783, 0.69565217],\n",
       "       [0.16666667, 0.83333333],\n",
       "       [0.16666667, 0.83333333],\n",
       "       [0.86363636, 0.13636364],\n",
       "       [1.        , 0.        ],\n",
       "       [0.16666667, 0.83333333],\n",
       "       [0.97222222, 0.02777778],\n",
       "       [0.16666667, 0.83333333],\n",
       "       [0.16666667, 0.83333333],\n",
       "       [0.97222222, 0.02777778],\n",
       "       [0.16666667, 0.83333333],\n",
       "       [0.30434783, 0.69565217],\n",
       "       [0.16666667, 0.83333333],\n",
       "       [0.16666667, 0.83333333],\n",
       "       [0.16666667, 0.83333333],\n",
       "       [0.16666667, 0.83333333],\n",
       "       [0.86363636, 0.13636364],\n",
       "       [0.16666667, 0.83333333],\n",
       "       [1.        , 0.        ],\n",
       "       [0.16666667, 0.83333333],\n",
       "       [0.16666667, 0.83333333],\n",
       "       [0.30434783, 0.69565217],\n",
       "       [0.16666667, 0.83333333],\n",
       "       [0.16666667, 0.83333333],\n",
       "       [0.86363636, 0.13636364],\n",
       "       [0.30434783, 0.69565217],\n",
       "       [0.30434783, 0.69565217],\n",
       "       [0.97222222, 0.02777778],\n",
       "       [0.16666667, 0.83333333],\n",
       "       [0.16666667, 0.83333333],\n",
       "       [0.16666667, 0.83333333],\n",
       "       [0.16666667, 0.83333333],\n",
       "       [0.16666667, 0.83333333],\n",
       "       [0.16666667, 0.83333333],\n",
       "       [0.16666667, 0.83333333],\n",
       "       [0.16666667, 0.83333333],\n",
       "       [0.97222222, 0.02777778],\n",
       "       [0.30434783, 0.69565217],\n",
       "       [0.16666667, 0.83333333],\n",
       "       [0.16666667, 0.83333333],\n",
       "       [0.30434783, 0.69565217],\n",
       "       [0.16666667, 0.83333333],\n",
       "       [0.97222222, 0.02777778],\n",
       "       [0.30434783, 0.69565217],\n",
       "       [0.30434783, 0.69565217],\n",
       "       [0.16666667, 0.83333333],\n",
       "       [0.16666667, 0.83333333],\n",
       "       [0.16666667, 0.83333333],\n",
       "       [0.97222222, 0.02777778],\n",
       "       [0.16666667, 0.83333333],\n",
       "       [0.16666667, 0.83333333],\n",
       "       [0.30434783, 0.69565217],\n",
       "       [0.16666667, 0.83333333],\n",
       "       [0.30434783, 0.69565217],\n",
       "       [0.16666667, 0.83333333],\n",
       "       [0.30434783, 0.69565217],\n",
       "       [0.16666667, 0.83333333],\n",
       "       [0.16666667, 0.83333333],\n",
       "       [0.86363636, 0.13636364],\n",
       "       [0.16666667, 0.83333333],\n",
       "       [0.30434783, 0.69565217],\n",
       "       [0.16666667, 0.83333333],\n",
       "       [0.16666667, 0.83333333],\n",
       "       [0.97222222, 0.02777778],\n",
       "       [0.97222222, 0.02777778],\n",
       "       [0.16666667, 0.83333333],\n",
       "       [0.16666667, 0.83333333],\n",
       "       [0.16666667, 0.83333333],\n",
       "       [0.16666667, 0.83333333],\n",
       "       [0.30434783, 0.69565217],\n",
       "       [0.16666667, 0.83333333],\n",
       "       [0.16666667, 0.83333333],\n",
       "       [0.30434783, 0.69565217],\n",
       "       [0.16666667, 0.83333333],\n",
       "       [0.97222222, 0.02777778],\n",
       "       [0.30434783, 0.69565217],\n",
       "       [0.30434783, 0.69565217],\n",
       "       [0.30434783, 0.69565217],\n",
       "       [0.30434783, 0.69565217],\n",
       "       [0.16666667, 0.83333333],\n",
       "       [0.16666667, 0.83333333],\n",
       "       [0.16666667, 0.83333333],\n",
       "       [0.30434783, 0.69565217],\n",
       "       [0.30434783, 0.69565217],\n",
       "       [0.16666667, 0.83333333],\n",
       "       [0.16666667, 0.83333333],\n",
       "       [0.86363636, 0.13636364],\n",
       "       [0.16666667, 0.83333333],\n",
       "       [0.16666667, 0.83333333],\n",
       "       [0.16666667, 0.83333333],\n",
       "       [0.16666667, 0.83333333],\n",
       "       [0.16666667, 0.83333333],\n",
       "       [0.16666667, 0.83333333],\n",
       "       [0.97222222, 0.02777778],\n",
       "       [0.30434783, 0.69565217],\n",
       "       [0.86363636, 0.13636364],\n",
       "       [0.16666667, 0.83333333],\n",
       "       [0.16666667, 0.83333333],\n",
       "       [0.16666667, 0.83333333],\n",
       "       [0.97222222, 0.02777778],\n",
       "       [0.16666667, 0.83333333],\n",
       "       [0.16666667, 0.83333333],\n",
       "       [0.16666667, 0.83333333],\n",
       "       [0.16666667, 0.83333333],\n",
       "       [0.86363636, 0.13636364],\n",
       "       [0.16666667, 0.83333333],\n",
       "       [0.16666667, 0.83333333],\n",
       "       [0.16666667, 0.83333333],\n",
       "       [0.16666667, 0.83333333],\n",
       "       [0.97222222, 0.02777778],\n",
       "       [0.30434783, 0.69565217],\n",
       "       [0.16666667, 0.83333333],\n",
       "       [0.16666667, 0.83333333],\n",
       "       [0.16666667, 0.83333333],\n",
       "       [0.86363636, 0.13636364],\n",
       "       [0.30434783, 0.69565217],\n",
       "       [0.30434783, 0.69565217],\n",
       "       [0.16666667, 0.83333333],\n",
       "       [0.30434783, 0.69565217],\n",
       "       [0.16666667, 0.83333333],\n",
       "       [0.16666667, 0.83333333],\n",
       "       [0.30434783, 0.69565217],\n",
       "       [0.16666667, 0.83333333],\n",
       "       [0.16666667, 0.83333333],\n",
       "       [0.16666667, 0.83333333],\n",
       "       [0.16666667, 0.83333333],\n",
       "       [0.16666667, 0.83333333],\n",
       "       [0.16666667, 0.83333333],\n",
       "       [0.97222222, 0.02777778],\n",
       "       [0.16666667, 0.83333333],\n",
       "       [0.16666667, 0.83333333],\n",
       "       [0.16666667, 0.83333333],\n",
       "       [0.16666667, 0.83333333],\n",
       "       [0.97222222, 0.02777778],\n",
       "       [0.16666667, 0.83333333]])"
      ]
     },
     "execution_count": 48,
     "metadata": {},
     "output_type": "execute_result"
    }
   ],
   "source": [
    "dt.predict_proba(X_test)"
   ]
  },
  {
   "cell_type": "code",
   "execution_count": 49,
   "id": "91ce2e12",
   "metadata": {},
   "outputs": [],
   "source": [
    "from sklearn.metrics import confusion_matrix, classification_report"
   ]
  },
  {
   "cell_type": "code",
   "execution_count": 50,
   "id": "b504831a",
   "metadata": {},
   "outputs": [
    {
     "name": "stdout",
     "output_type": "stream",
     "text": [
      "[[ 29  29]\n",
      " [  6 121]]\n"
     ]
    }
   ],
   "source": [
    "print(confusion_matrix(y_test,y_pred))"
   ]
  },
  {
   "cell_type": "code",
   "execution_count": 51,
   "id": "0a08daa2",
   "metadata": {},
   "outputs": [
    {
     "name": "stdout",
     "output_type": "stream",
     "text": [
      "              precision    recall  f1-score   support\n",
      "\n",
      "           N       0.83      0.50      0.62        58\n",
      "           Y       0.81      0.95      0.87       127\n",
      "\n",
      "    accuracy                           0.81       185\n",
      "   macro avg       0.82      0.73      0.75       185\n",
      "weighted avg       0.81      0.81      0.80       185\n",
      "\n"
     ]
    }
   ],
   "source": [
    "print(classification_report(y_test,y_pred))"
   ]
  },
  {
   "cell_type": "markdown",
   "id": "081d44de",
   "metadata": {},
   "source": [
    "# Mo hình Decision Tree "
   ]
  },
  {
   "cell_type": "code",
   "execution_count": 52,
   "id": "932b707b",
   "metadata": {},
   "outputs": [],
   "source": [
    "from sklearn.tree import plot_tree"
   ]
  },
  {
   "cell_type": "code",
   "execution_count": 53,
   "id": "dab644e3",
   "metadata": {},
   "outputs": [
    {
     "data": {
      "image/png": "[encoded data removed]",
      "text/plain": [
       "<Figure size 2880x2880 with 1 Axes>"
      ]
     },
     "metadata": {
      "needs_background": "light"
     },
     "output_type": "display_data"
    }
   ],
   "source": [
    "import matplotlib.pyplot as plt\n",
    "plt.figure(figsize=(40,40))\n",
    "plot_tree(dt, filled = True);"
   ]
  },
  {
   "cell_type": "code",
   "execution_count": null,
   "id": "360397e1",
   "metadata": {},
   "outputs": [],
   "source": []
  },
  {
   "cell_type": "code",
   "execution_count": null,
   "id": "8bf50d43",
   "metadata": {},
   "outputs": [],
   "source": []
  },
  {
   "cell_type": "code",
   "execution_count": null,
   "id": "1cf9ebe5",
   "metadata": {},
   "outputs": [],
   "source": []
  },
  {
   "cell_type": "code",
   "execution_count": null,
   "id": "a7ede89d",
   "metadata": {},
   "outputs": [],
   "source": []
  }
 ],
 "metadata": {
  "kernelspec": {
   "display_name": "Python 3 (ipykernel)",
   "language": "python",
   "name": "python3"
  },
  "language_info": {
   "codemirror_mode": {
    "name": "ipython",
    "version": 3
   },
   "file_extension": ".py",
   "mimetype": "text/x-python",
   "name": "python",
   "nbconvert_exporter": "python",
   "pygments_lexer": "ipython3",
   "version": "3.9.12"
  }
 },
 "nbformat": 4,
 "nbformat_minor": 5
}
